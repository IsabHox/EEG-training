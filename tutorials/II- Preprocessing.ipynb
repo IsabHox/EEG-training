{
 "cells": [
  {
   "cell_type": "markdown",
   "metadata": {},
   "source": [
    "# Preprocessing EEG data\n",
    "In the last tutorial, we have seen that the raw data is hardly readable as contaminated by various artifacts. In this tutorial, we implement some methods to denoise EEG data, using the same data files as last time."
   ]
  },
  {
   "cell_type": "code",
   "execution_count": null,
   "metadata": {},
   "outputs": [],
   "source": [
    "import mne\n",
    "import matplotlib.pyplot as plt\n",
    "import numpy as np\n",
    "%matplotlib notebook"
   ]
  },
  {
   "cell_type": "markdown",
   "metadata": {},
   "source": [
    "## Import data\n",
    "Follow the tutorial from last week to import the raw data files in a `eegdata` variable. No need to epoch yet: for the reasons mentionned in the associated lecture, it is better to apply the first preprocessing steps on the full recording sequence. Visualize once again the PSD."
   ]
  },
  {
   "cell_type": "code",
   "execution_count": null,
   "metadata": {},
   "outputs": [],
   "source": []
  },
  {
   "cell_type": "markdown",
   "metadata": {},
   "source": [
    "# Filter data\n",
    "Apply a 3-35Hz bandpass filter to the raw data (use the method `eegdata.filter($f_{low}$,$f_{high}$)`) and look how the PSD changed. What do you notice?\n",
    "\n",
    "Try changing some of the parameters of the filter (refer to the documentation), and in particular the method and the phase of the filter. Compare the performances: advantage of each method, drawbacks. Take into account the computation time too."
   ]
  },
  {
   "cell_type": "code",
   "execution_count": null,
   "metadata": {},
   "outputs": [],
   "source": []
  },
  {
   "cell_type": "markdown",
   "metadata": {},
   "source": [
    "## Epoching\n",
    "Extract epochs between -0.5 to 2 seconds from the stimulus (markers `10` and `20`)."
   ]
  },
  {
   "cell_type": "code",
   "execution_count": null,
   "metadata": {},
   "outputs": [],
   "source": []
  },
  {
   "cell_type": "markdown",
   "metadata": {},
   "source": [
    "## Channel rejection and interpolation\n",
    "Look into the data if there are channels that disfunctionned."
   ]
  },
  {
   "cell_type": "code",
   "execution_count": null,
   "metadata": {},
   "outputs": [],
   "source": [
    "#ep.plot(block=True,scalings='auto')"
   ]
  },
  {
   "cell_type": "markdown",
   "metadata": {},
   "source": [
    "Reject and interpolate channels Fp1, Fp2 and T8:\n",
    "- List in `ep.info['bads']` the names of these two channels\n",
    "- Use the `mne.pick_types()` function to reject the bad channels. Set the parameter `exclude` to __[ ]__\n",
    "- Interpolate these channels with the method `.interpolate_bads(reset_bads=False)`\n",
    "\n",
    "Before the interpolation, you will need to add the montage, which gives the electrode locations. Since we did not measure them during our recordings, we simply use a template that is provided: the standard 10-20 montage."
   ]
  },
  {
   "cell_type": "code",
   "execution_count": null,
   "metadata": {},
   "outputs": [],
   "source": [
    "montage1020 = mne.channels.make_standard_montage('standard_1020')\n",
    "ep= ep.set_montage(montage1020)\n",
    "\n"
   ]
  },
  {
   "cell_type": "markdown",
   "metadata": {},
   "source": [
    "Visualize again the epochs and look at what has changed."
   ]
  },
  {
   "cell_type": "code",
   "execution_count": null,
   "metadata": {},
   "outputs": [],
   "source": [
    "#ep.plot()"
   ]
  },
  {
   "cell_type": "markdown",
   "metadata": {},
   "source": [
    "## Epoch rejection\n",
    "[The tutorial provided by MNE](https://mne.tools/stable/auto_tutorials/preprocessing/plot_20_rejecting_bad_data.html#sphx-glr-auto-tutorials-preprocessing-plot-20-rejecting-bad-data-py)  is very well written for visual inspection-based epoch rejection. You can explore also the `autoreject` package.\n",
    "\n",
    "For epoch rejection based on thresholding: use the `.drop_bad()`method (beware to perform this on a copy of the ep object, and not on ep directly as this action is irreversible). Tune the threshold so that up to 10% of epochs are rejected."
   ]
  },
  {
   "cell_type": "code",
   "execution_count": null,
   "metadata": {},
   "outputs": [],
   "source": []
  },
  {
   "cell_type": "markdown",
   "metadata": {},
   "source": [
    "## ICA\n",
    "We have learned that ICA splits the signal into independent sources. It is helpful to identify remaining EOG artifacts and the heartbeat.\n",
    "Since we have rejected 3 channels, we can only extract $32-3=29$ independent components.\n",
    "Create the ICA object using `mne.preprocessing.ICA()`, then fit it to the cleaned epoch struct (`ica.fit(cleaned_epochs)`)."
   ]
  },
  {
   "cell_type": "code",
   "execution_count": null,
   "metadata": {},
   "outputs": [],
   "source": []
  },
  {
   "cell_type": "markdown",
   "metadata": {},
   "source": [
    "Visualize the time series of the components using the `ica.plot_sources(epochs, show_scrollbars=False)` method"
   ]
  },
  {
   "cell_type": "code",
   "execution_count": null,
   "metadata": {},
   "outputs": [],
   "source": []
  },
  {
   "cell_type": "markdown",
   "metadata": {},
   "source": [
    "By now you may be able to identify components that are clearly related to heart beat.\n",
    "\n",
    "Now we introduce a new form of plots: the __topoplots__. They represent activity on a projection of the head shape. These will be particularly useful to look at activities at precise times or in frequency bands, as we will see in the next tutorials. For now, they will help us understand how the ICs have been built, that is, which combination of channels makes the given components. This can be done using `ica.plot_components()`"
   ]
  },
  {
   "cell_type": "code",
   "execution_count": null,
   "metadata": {},
   "outputs": [],
   "source": []
  },
  {
   "cell_type": "markdown",
   "metadata": {},
   "source": [
    "Now you have identifies components that you want to exclude (namely: those showing ECG and EOG activity). To exclude these components: \n",
    "- List the indices to reject, and run `ica.exclude = [list of indices]`\n",
    "- Apply the new transform to the epochs data (don't forget to make a copy as this is irreversible), using `ica.apply()`"
   ]
  },
  {
   "cell_type": "code",
   "execution_count": null,
   "metadata": {},
   "outputs": [],
   "source": []
  },
  {
   "cell_type": "markdown",
   "metadata": {},
   "source": [
    "Now the data should be cleaner. Have a look at what it looks like! For easier representation, average epochs and look at what we obtain.\n",
    "`evoked = epochs.average()`"
   ]
  },
  {
   "cell_type": "code",
   "execution_count": null,
   "metadata": {},
   "outputs": [],
   "source": []
  }
 ],
 "metadata": {
  "kernelspec": {
   "display_name": "Python 3",
   "language": "python",
   "name": "python3"
  },
  "language_info": {
   "codemirror_mode": {
    "name": "ipython",
    "version": 3
   },
   "file_extension": ".py",
   "mimetype": "text/x-python",
   "name": "python",
   "nbconvert_exporter": "python",
   "pygments_lexer": "ipython3",
   "version": "3.8.5"
  }
 },
 "nbformat": 4,
 "nbformat_minor": 4
}

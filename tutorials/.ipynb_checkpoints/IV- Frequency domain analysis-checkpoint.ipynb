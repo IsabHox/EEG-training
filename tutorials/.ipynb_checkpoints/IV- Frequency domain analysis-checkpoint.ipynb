{
 "cells": [
  {
   "cell_type": "markdown",
   "metadata": {},
   "source": [
    "# Frequency domain analysis\n",
    "In the previous tutorial, we have seen how to extract event-related information from the time sequence. Now, we opt for a time-frequency approach to observe how the brain handles motor activity. In particular, we will explore different baseline normalization techniques and observe their differences."
   ]
  },
  {
   "cell_type": "code",
   "execution_count": null,
   "metadata": {},
   "outputs": [],
   "source": [
    "import numpy as np\n",
    "import mne\n",
    "import matplotlib.pyplot as plt\n",
    "%matplotlib notebook"
   ]
  },
  {
   "cell_type": "markdown",
   "metadata": {},
   "source": [
    "## Description of the paradigm and goal of the analysis\n",
    "In this recording, participants were presented randomly with one of two stimuli at each trial:\n",
    "- Stimulus 1: a drawing of a face is presented (marker `10`)\n",
    "- Stimulus 2: a number is displayed on a screen and at the same time a pure tone is played in headphones (marker `20`)\n",
    "\n",
    "Upon presentation of these stimuli, participants had to provide a response through key press on a keyboard with their right hand (left arrow for stimulus 1 (yielding marker `110`) and right arrow for stimulus 2 (yielding marker `120`)).\n",
    "In the prestimulus period, 9 frames of visual noise were presented (each lasting 100ms).\n",
    "\n",
    "In this tutorial, we aim at observing ERDs in the alpha band (~8-13Hz), relative to the motor response."
   ]
  },
  {
   "cell_type": "markdown",
   "metadata": {},
   "source": [
    "## Import data and pre-processing\n",
    "\n",
    "Given the description of the goal above, import the dataset we used previously, pre-process and epoch it with the techniques of your choice. You should extract a baseline too, as we will normalize the data later.\n",
    "\n",
    "N.B.: as opposed to last tutorial, we are here interested in the motor response, not the sensory response. Make sure you are using the right markers to align your data best."
   ]
  },
  {
   "cell_type": "code",
   "execution_count": null,
   "metadata": {},
   "outputs": [],
   "source": []
  },
  {
   "cell_type": "markdown",
   "metadata": {},
   "source": [
    "## Build the spectral components\n",
    "We mentionned at the beginning of this tutorial that we want to observe motor-related activity, and that it manifests mostly by activity in the alpha band. First, extract the activity only in the alpha band (if you haven't done so already), using for example:\n",
    "\n"
   ]
  },
  {
   "cell_type": "code",
   "execution_count": null,
   "metadata": {},
   "outputs": [],
   "source": []
  },
  {
   "cell_type": "code",
   "execution_count": null,
   "metadata": {},
   "outputs": [],
   "source": []
  },
  {
   "cell_type": "code",
   "execution_count": null,
   "metadata": {},
   "outputs": [],
   "source": []
  },
  {
   "cell_type": "code",
   "execution_count": null,
   "metadata": {},
   "outputs": [],
   "source": []
  },
  {
   "cell_type": "code",
   "execution_count": null,
   "metadata": {},
   "outputs": [],
   "source": []
  },
  {
   "cell_type": "code",
   "execution_count": null,
   "metadata": {},
   "outputs": [],
   "source": []
  }
 ],
 "metadata": {
  "kernelspec": {
   "display_name": "Python 3",
   "language": "python",
   "name": "python3"
  },
  "language_info": {
   "codemirror_mode": {
    "name": "ipython",
    "version": 3
   },
   "file_extension": ".py",
   "mimetype": "text/x-python",
   "name": "python",
   "nbconvert_exporter": "python",
   "pygments_lexer": "ipython3",
   "version": "3.8.5"
  }
 },
 "nbformat": 4,
 "nbformat_minor": 4
}

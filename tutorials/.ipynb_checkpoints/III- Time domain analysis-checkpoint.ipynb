{
 "cells": [
  {
   "cell_type": "markdown",
   "metadata": {},
   "source": [
    "# Time domain analysis\n",
    "The past sessions were dedicated to getting acquainted with EEG data, how to pre-process it and how to represent it. In the next tutorials, we will see other ways to represent it too and apply techniques mentionned in the lecture to observe neural activity, build hypotheses and verify them!\n",
    "\n",
    "In this tutorial, we will start with time domain analysis, which is fairly simple and effective with clear hypotheses."
   ]
  },
  {
   "cell_type": "code",
   "execution_count": null,
   "metadata": {},
   "outputs": [],
   "source": [
    "import numpy as np\n",
    "import mne\n",
    "import matplotlib.pyplot as plt\n",
    "%matplotlib notebook"
   ]
  },
  {
   "cell_type": "markdown",
   "metadata": {},
   "source": [
    "## Description of the paradigm and goal of the analysis\n",
    "In this recording, participants were presented randomly with one of two stimuli at each trial:\n",
    "- Stimulus 1: a drawing of a face is presented (marker `10`)\n",
    "- Stimulus 2: a number is displayed on a screen and at the same time a pure tone is played in headphones (marker `20`)\n",
    "\n",
    "Upon presentation of these stimuli, participants had to provide a response through key press on a keyboard with their right hand (left arrow for stimulus 1 (yielding marker `110`) and right arrow for stimulus 2 (yielding marker `120`)).\n",
    "In the prestimulus period, 9 frames of visual noise were presented (each lasting 100ms).\n",
    "\n",
    "In this tutorial, we aim at observing ERPs in the 500ms following stimulus presentation (and in particular the P300 component resulting from the stimulus presentation). In addition, we look at the differences, if there are any, between the two stimuli."
   ]
  },
  {
   "cell_type": "markdown",
   "metadata": {},
   "source": [
    "## Import data and pre-processing\n",
    "Given the description of the goal above, import the dataset we used previously, pre-process and epoch it with the techniques of your choice. You can extract a baseline too."
   ]
  },
  {
   "cell_type": "code",
   "execution_count": null,
   "metadata": {},
   "outputs": [],
   "source": []
  },
  {
   "cell_type": "markdown",
   "metadata": {},
   "source": [
    "## Visualization of all epochs\n",
    "In this part, we want to obtain an image of the activity in all epochs and channels in order to determine if there exists temporal activity related to the stimuli. The method `epoch.plot_image()` allows to create a color map and an average representation of all epochs. You can select to visualize specific classes of trials separately, or visualize the average of all epochs."
   ]
  },
  {
   "cell_type": "code",
   "execution_count": null,
   "metadata": {},
   "outputs": [],
   "source": []
  },
  {
   "cell_type": "markdown",
   "metadata": {},
   "source": [
    "Observe the graph. Are there any components that you would be interested in seeing? What hypothesis can you formulate, given the description of the paradigm?"
   ]
  },
  {
   "cell_type": "markdown",
   "metadata": {},
   "source": [
    "__Your answer:__"
   ]
  },
  {
   "cell_type": "markdown",
   "metadata": {},
   "source": [
    "## Building the ERP\n",
    "From now on, we want to find differences in activity between the presentation of both stimuli. In the next cell, try to manually extract the data array (`data=epochs.get_data()`) and build yourself an ERP that could adequately help in finding our differences. "
   ]
  },
  {
   "cell_type": "code",
   "execution_count": null,
   "metadata": {},
   "outputs": [],
   "source": []
  },
  {
   "cell_type": "markdown",
   "metadata": {},
   "source": [
    "Plot the time series of the ERP for several channels. Is there a specific time at which there seem to be an event-related activity?"
   ]
  },
  {
   "cell_type": "code",
   "execution_count": null,
   "metadata": {},
   "outputs": [],
   "source": []
  },
  {
   "cell_type": "markdown",
   "metadata": {},
   "source": [
    "__Your answer:__"
   ]
  },
  {
   "cell_type": "markdown",
   "metadata": {},
   "source": [
    "## Localizing the ERP\n",
    "We here try to locate where the ERPs emerge.\n",
    "First, if you haven't done so yet, compute an ERP for each type of stimulus and repeat the previous question."
   ]
  },
  {
   "cell_type": "code",
   "execution_count": null,
   "metadata": {},
   "outputs": [],
   "source": [
    "from mne.viz import plot_topomap"
   ]
  },
  {
   "cell_type": "markdown",
   "metadata": {},
   "source": [
    "Now, we will take a look at the topoplots at the identified times for each condition separately."
   ]
  },
  {
   "cell_type": "code",
   "execution_count": null,
   "metadata": {},
   "outputs": [],
   "source": []
  },
  {
   "cell_type": "markdown",
   "metadata": {},
   "source": [
    "Which channels seem to be the most active in each case? How does that correlate with the task?"
   ]
  },
  {
   "cell_type": "markdown",
   "metadata": {},
   "source": [
    "__Your answer:__"
   ]
  },
  {
   "cell_type": "markdown",
   "metadata": {},
   "source": [
    "## Conclusive remarks\n",
    "The solution sheet provides you with one possible answer. The results can greatly vary depending on the type of preprocessing you applied.\n",
    "In our computations we did not assess the statistical relevance of the observed phenomena. This is a topic that we will touch later on. However, having already a qualitative understanding of the data helps in formulating hypotheses and as a first checking of the methods used to verify these hypotheses.\n",
    "\n",
    "In the next cell, you can write down your observations on the differences between the solution sheet and your answer. How do they qualitatively differ? How can the solution be improved? How can your answer be improved?"
   ]
  },
  {
   "cell_type": "markdown",
   "metadata": {},
   "source": [
    "__Your remarks:__"
   ]
  }
 ],
 "metadata": {
  "kernelspec": {
   "display_name": "Python 3",
   "language": "python",
   "name": "python3"
  },
  "language_info": {
   "codemirror_mode": {
    "name": "ipython",
    "version": 3
   },
   "file_extension": ".py",
   "mimetype": "text/x-python",
   "name": "python",
   "nbconvert_exporter": "python",
   "pygments_lexer": "ipython3",
   "version": "3.8.5"
  }
 },
 "nbformat": 4,
 "nbformat_minor": 4
}
